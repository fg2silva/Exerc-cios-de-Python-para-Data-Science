{
  "nbformat": 4,
  "nbformat_minor": 0,
  "metadata": {
    "colab": {
      "provenance": []
    },
    "kernelspec": {
      "name": "python3",
      "display_name": "Python 3"
    },
    "language_info": {
      "name": "python"
    }
  },
  "cells": [
    {
      "cell_type": "code",
      "execution_count": 1,
      "metadata": {
        "colab": {
          "base_uri": "https://localhost:8080/"
        },
        "id": "fdlrWyEBLTVF",
        "outputId": "9f8c0a40-50d7-430f-d023-32b1f5726c7b"
      },
      "outputs": [
        {
          "output_type": "stream",
          "name": "stdout",
          "text": [
            "Digite um número inteiro qualquer de 1 a 10 7\n",
            "Tabuada do 7:\n",
            "7 X 0 = 0\n",
            "7 X 1 = 7\n",
            "7 X 2 = 14\n",
            "7 X 3 = 21\n",
            "7 X 4 = 28\n",
            "7 X 5 = 35\n",
            "7 X 6 = 42\n",
            "7 X 7 = 49\n",
            "7 X 8 = 56\n",
            "7 X 9 = 63\n",
            "7 X 10 = 70\n"
          ]
        }
      ],
      "source": [
        "# Exercício 2 Aquecimento\n",
        "\n",
        "num = int(input('Digite um número inteiro qualquer de 1 a 10 '))\n",
        "print(f'Tabuada do {num}:')\n",
        "for i in range(0, 11):\n",
        "  resultado = num * i\n",
        "  print(f'{num} X {i} = {resultado}')"
      ]
    },
    {
      "cell_type": "code",
      "source": [
        "# Exercício 5. Tirar média de notas de um skatista. 5 jurados julgam\n",
        "# As notas mais alta e mais baixa são desconsideradas no cálculo\n",
        "\n",
        "nota1 = float(input('Insira aqui sua nota '))\n",
        "nota2 = float(input('Insira aqui sua nota '))\n",
        "nota3 = float(input('Insira aqui sua nota '))\n",
        "nota4 = float(input('Insira aqui sua nota '))\n",
        "nota5 = float(input('Insira aqui sua nota '))\n",
        "\n",
        "def notas_validas(lista_notas: list=[0]) -> list:\n",
        "  '''\n",
        "  Função que gera lista sem os valores máximos e mínimos da primeira lista\n",
        "\n",
        "  lista: list, default [0]\n",
        "    Iterar com a lista com as notas dos juízes\n",
        "    Desconsiderar índice com valor máximo\n",
        "    Desconsiderar índice com valor mínimo\n",
        "  return = nova lista 'notas_v' sem os valores max e min\n",
        "  '''\n",
        "  notas_v = []\n",
        "  for i in range(len(lista_notas)):\n",
        "    if lista_notas[i] != max(lista_notas):\n",
        "      if lista_notas[i] != min(lista_notas):\n",
        "        notas_v.append(lista_notas[i])\n",
        "\n",
        "  return notas_v\n",
        "\n",
        "notas_v = notas_validas([nota1, nota2, nota3, nota4, nota5])\n",
        "\n",
        "def media_manobra(lista_v:list=[0]) -> float:\n",
        "  '''\n",
        "  Função que gera a média em float a partir de uma lista\n",
        "\n",
        "    lista: list, default [0]\n",
        "      Operação matemática para encontrar a variavel media\n",
        "    return = valor único da média 'media' em formato float\n",
        "    '''\n",
        "  media = sum(lista_v) / len(lista_v)\n",
        "  return media\n",
        "\n",
        "media = round(media_manobra(notas_v), 2)\n",
        "\n",
        "print(f'Nota da manobra: {media} pontos')"
      ],
      "metadata": {
        "id": "nGEr0JmfLfD1"
      },
      "execution_count": null,
      "outputs": []
    },
    {
      "cell_type": "code",
      "source": [
        "# Exercício 6\n",
        "# O código pede ao usuário que informe a nota do aluno em cada avaliação\n",
        "# Retorna uma mensagem com o valor da maior e menor nota, média e se foi aprovado ou não\n",
        "\n",
        "fulano_notas = []\n",
        "\n",
        "for i in range(1,5):\n",
        "  nota = float(input(f'Informe a nota do aluno na {i}ª avaliação '))\n",
        "  fulano_notas.append(nota)\n",
        "\n",
        "def desempenho(notas: list=[0]) -> float and str:\n",
        "  media = round(sum(notas) / len(notas), 2)\n",
        "  nota_max = round(max(notas), 2)\n",
        "  nota_min = round(min(notas), 2)\n",
        "  if media > 6:\n",
        "    situacao = 'Aprovado(a)'\n",
        "  else:\n",
        "    situacao = 'Reprovado(a)'\n",
        "  return (media, nota_max, nota_min, situacao)\n",
        "\n",
        "\n",
        "media, nota_max, nota_min, situacao = desempenho(fulano_notas)\n",
        "\n",
        "print(f'O(a) estudante obteve uma média de {media}, \\n'\n",
        "      f'com a sua maior nota de {nota_max} pontos\\n'\n",
        "      f'e a menor nota de {nota_min} pontos\\n'\n",
        "      f'e foi {situacao}')"
      ],
      "metadata": {
        "id": "N9-7ygnEL9Yp"
      },
      "execution_count": null,
      "outputs": []
    },
    {
      "cell_type": "code",
      "source": [
        "# Exercício 8 - Pontuação, aproveitamento\n",
        "# o código calcula quantos pontos a equipe de futebol somou no campeonato e qual foi seu aproveitamento percentual\n",
        "\n",
        "gols_marcados = [2, 1, 3, 1, 0]\n",
        "gols_sofridos = [1, 2, 2, 1, 3]\n",
        "pontuacao = 0\n",
        "vitoria = 3\n",
        "empate = 1\n",
        "derrota = 0\n",
        "\n",
        "partidas = list(map(lambda gols_pro, gols_sofr: [gols_pro, gols_sofr], gols_marcados, gols_sofridos))\n",
        "aproveitamento_max = len(partidas) * vitoria\n",
        "\n",
        "for i in range(len(gols_marcados)):\n",
        "  if gols_marcados[i] > gols_sofridos[i]:\n",
        "    pontuacao += 3\n",
        "  if gols_marcados[i] == gols_sofridos[i]:\n",
        "    pontuacao += 1\n",
        "aproveitamento = round((pontuacao / aproveitamento_max) * 100, 2)\n",
        "\n",
        "\n",
        "print(f'O time conseguiu atingir {pontuacao} pontos no campeonato,\\n'\n",
        "      f'Com um aproveitamento de {aproveitamento}%')"
      ],
      "metadata": {
        "id": "FiP-f-fPL-F1"
      },
      "execution_count": null,
      "outputs": []
    },
    {
      "cell_type": "code",
      "source": [
        "# Exercício 9.\n",
        "# O código pede ao usuário que informe uma cidade para a qual ele irá viajar e quantos dias ficará lá\n",
        "# O código retorna o valor dos gastos considerando que se está partindo do recife\n",
        "# Alguns valores já estavam dados no enunciado\n",
        "\n",
        "cidades = ['Salvador', 'Fortaleza', 'Natal', 'Aracaju']\n",
        "diaria_hotel = 150\n",
        "consumo_km_lt = 14\n",
        "preco_lt = 5\n",
        "gastos_por_cidade = [200, 400, 250, 300]\n",
        "distancia_recife = [850, 800, 300, 550]\n",
        "dia = int(input(f'Insira o número de dias que você vai ficar no destino: '))\n",
        "destino = input(f'Escolha uma dessas cidades: Salvador, Fortaleza, Natal ou Aracaju: ')\n",
        "dic_distancia_destino = {}\n",
        "dic_passeio_destino = {}\n",
        "custo_viagem = round(total_hotel + total_gasolina + total_passeio, 2)\n",
        "\n",
        "for i in range(len(cidades)):\n",
        "  dic_distancia_destino[cidades[i]] = distancia_recife[i]\n",
        "\n",
        "for i in range(len(cidades)):\n",
        "  dic_passeio_destino[cidades[i]] = gastos_por_cidade[i]\n",
        "\n",
        "def gasto_hotel(diaria, dias):\n",
        "  total_hotel = diaria_hotel * dia\n",
        "  return total_hotel\n",
        "\n",
        "total_hotel = gasto_hotel(diaria_hotel, dia)\n",
        "\n",
        "def gasto_gasolina(distancia, consumo, preco_gas):\n",
        "  total_gasolina = round(((dic_distancia_destino[destino] / consumo_km_lt) * preco_lt) * 2, 2)\n",
        "  return total_gasolina\n",
        "\n",
        "total_gasolina = gasto_gasolina(distancia_recife, consumo_km_lt, preco_lt)\n",
        "\n",
        "def gasto_passeio(custo_passeio, dias):\n",
        "  total_passeio = dic_passeio_destino[destino] * dia\n",
        "  return total_passeio\n",
        "\n",
        "total_passeio = gasto_passeio(gastos_por_cidade, dia)\n",
        "\n",
        "\n",
        "print(f'Com base nos gastos definidos, uma viagem de {dia} dias para {destino} saindo de Recife custaria {custo_viagem} reais\\n'\n",
        "      f'Sendo {total_gasolina} para a gasolina,\\n{total_hotel} para o Hotel\\ne {total_passeio} para o passeio')\n"
      ],
      "metadata": {
        "id": "b6heAiSnL921"
      },
      "execution_count": null,
      "outputs": []
    },
    {
      "cell_type": "code",
      "source": [
        "# Exercício 10\n",
        "# O código lê uma frase que o usuário digita e retorna uma lista somente com as palavras que possuem 5 ou mais letras\n",
        "# A ideia é fornecer dados para uma análise de linguagem natural\n",
        "# O código retira as pontuações digitadas também\n",
        "\n",
        "texto = input('Digite aqui uma frase qualquer ')\n",
        "lista_palavras = texto.replace('?', ' ').replace('!', ' ').replace(',', ' ').replace('.', ' ').replace(':', ' ').replace(';', ' ').split()\n",
        "\n",
        "lista_filtrada = list(filter(lambda palavra: len(palavra) >= 5, lista_palavras))\n",
        "lista_filtrada"
      ],
      "metadata": {
        "id": "Kkk4DmR6NLvv"
      },
      "execution_count": null,
      "outputs": []
    }
  ]
}